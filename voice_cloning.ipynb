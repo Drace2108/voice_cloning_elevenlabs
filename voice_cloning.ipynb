{
  "nbformat": 4,
  "nbformat_minor": 0,
  "metadata": {
    "colab": {
      "provenance": [],
      "gpuType": "T4",
      "authorship_tag": "ABX9TyOtXZ7N82FSrEXIKmNH8pWS",
      "include_colab_link": true
    },
    "kernelspec": {
      "name": "python3",
      "display_name": "Python 3"
    },
    "language_info": {
      "name": "python"
    },
    "accelerator": "GPU"
  },
  "cells": [
    {
      "cell_type": "markdown",
      "metadata": {
        "id": "view-in-github",
        "colab_type": "text"
      },
      "source": [
        "<a href=\"https://colab.research.google.com/github/Drace2108/voice_cloning_elevenlabs/blob/main/voice_cloning.ipynb\" target=\"_parent\"><img src=\"https://colab.research.google.com/assets/colab-badge.svg\" alt=\"Open In Colab\"/></a>"
      ]
    },
    {
      "cell_type": "markdown",
      "source": [
        "# **Voice Cloning using ElevenLabs**"
      ],
      "metadata": {
        "id": "ONIUKpmc9O17"
      }
    },
    {
      "cell_type": "markdown",
      "source": [
        "### In this notebook I will let you to clone your voice and generate any text up to your choice. You can check my cloned voice in action below.\n",
        "### Original voice: https://drive.google.com/file/d/1dIRtspQBTrfVxYA2eDmYq57sLFBJKo1V/view?usp=sharing\n",
        "### Cloned voice: https://drive.google.com/file/d/1PXSSzOf8adAhzAaQtTi8qjdjfc6-vnQn/view?usp=sharing"
      ],
      "metadata": {
        "id": "aEyL5yXrCvte"
      }
    },
    {
      "cell_type": "markdown",
      "source": [
        "# **Install library**"
      ],
      "metadata": {
        "id": "G1ofKXyG2cZy"
      }
    },
    {
      "cell_type": "code",
      "source": [
        "!pip install elevenlabs==0.3.0b0"
      ],
      "metadata": {
        "colab": {
          "base_uri": "https://localhost:8080/"
        },
        "id": "LqhdbkIB38zF",
        "outputId": "43e9acac-e5e5-46eb-c1ff-cad2b292a352"
      },
      "execution_count": 2,
      "outputs": [
        {
          "output_type": "stream",
          "name": "stdout",
          "text": [
            "Collecting elevenlabs==0.3.0b0\n",
            "  Downloading elevenlabs-0.3.0b0-py3-none-any.whl (71 kB)\n",
            "\u001b[2K     \u001b[90m━━━━━━━━━━━━━━━━━━━━━━━━━━━━━━━━━━━━━━━━\u001b[0m \u001b[32m71.9/71.9 kB\u001b[0m \u001b[31m3.7 MB/s\u001b[0m eta \u001b[36m0:00:00\u001b[0m\n",
            "\u001b[?25hCollecting httpx>=0.21.2 (from elevenlabs==0.3.0b0)\n",
            "  Downloading httpx-0.27.0-py3-none-any.whl (75 kB)\n",
            "\u001b[2K     \u001b[90m━━━━━━━━━━━━━━━━━━━━━━━━━━━━━━━━━━━━━━━━\u001b[0m \u001b[32m75.6/75.6 kB\u001b[0m \u001b[31m9.4 MB/s\u001b[0m eta \u001b[36m0:00:00\u001b[0m\n",
            "\u001b[?25hRequirement already satisfied: ipython>=7.0 in /usr/local/lib/python3.10/dist-packages (from elevenlabs==0.3.0b0) (7.34.0)\n",
            "Collecting pydantic<2.5.0,>=1.9.2 (from elevenlabs==0.3.0b0)\n",
            "  Downloading pydantic-2.4.2-py3-none-any.whl (395 kB)\n",
            "\u001b[2K     \u001b[90m━━━━━━━━━━━━━━━━━━━━━━━━━━━━━━━━━━━━━━━━\u001b[0m \u001b[32m395.8/395.8 kB\u001b[0m \u001b[31m24.5 MB/s\u001b[0m eta \u001b[36m0:00:00\u001b[0m\n",
            "\u001b[?25hRequirement already satisfied: requests>=2.20 in /usr/local/lib/python3.10/dist-packages (from elevenlabs==0.3.0b0) (2.31.0)\n",
            "Collecting websockets>=11.0 (from elevenlabs==0.3.0b0)\n",
            "  Downloading websockets-12.0-cp310-cp310-manylinux_2_5_x86_64.manylinux1_x86_64.manylinux_2_17_x86_64.manylinux2014_x86_64.whl (130 kB)\n",
            "\u001b[2K     \u001b[90m━━━━━━━━━━━━━━━━━━━━━━━━━━━━━━━━━━━━━━━━\u001b[0m \u001b[32m130.2/130.2 kB\u001b[0m \u001b[31m17.4 MB/s\u001b[0m eta \u001b[36m0:00:00\u001b[0m\n",
            "\u001b[?25hRequirement already satisfied: anyio in /usr/local/lib/python3.10/dist-packages (from httpx>=0.21.2->elevenlabs==0.3.0b0) (3.7.1)\n",
            "Requirement already satisfied: certifi in /usr/local/lib/python3.10/dist-packages (from httpx>=0.21.2->elevenlabs==0.3.0b0) (2024.2.2)\n",
            "Collecting httpcore==1.* (from httpx>=0.21.2->elevenlabs==0.3.0b0)\n",
            "  Downloading httpcore-1.0.4-py3-none-any.whl (77 kB)\n",
            "\u001b[2K     \u001b[90m━━━━━━━━━━━━━━━━━━━━━━━━━━━━━━━━━━━━━━━━\u001b[0m \u001b[32m77.8/77.8 kB\u001b[0m \u001b[31m10.4 MB/s\u001b[0m eta \u001b[36m0:00:00\u001b[0m\n",
            "\u001b[?25hRequirement already satisfied: idna in /usr/local/lib/python3.10/dist-packages (from httpx>=0.21.2->elevenlabs==0.3.0b0) (3.6)\n",
            "Requirement already satisfied: sniffio in /usr/local/lib/python3.10/dist-packages (from httpx>=0.21.2->elevenlabs==0.3.0b0) (1.3.1)\n",
            "Collecting h11<0.15,>=0.13 (from httpcore==1.*->httpx>=0.21.2->elevenlabs==0.3.0b0)\n",
            "  Downloading h11-0.14.0-py3-none-any.whl (58 kB)\n",
            "\u001b[2K     \u001b[90m━━━━━━━━━━━━━━━━━━━━━━━━━━━━━━━━━━━━━━━━\u001b[0m \u001b[32m58.3/58.3 kB\u001b[0m \u001b[31m7.4 MB/s\u001b[0m eta \u001b[36m0:00:00\u001b[0m\n",
            "\u001b[?25hRequirement already satisfied: setuptools>=18.5 in /usr/local/lib/python3.10/dist-packages (from ipython>=7.0->elevenlabs==0.3.0b0) (67.7.2)\n",
            "Collecting jedi>=0.16 (from ipython>=7.0->elevenlabs==0.3.0b0)\n",
            "  Downloading jedi-0.19.1-py2.py3-none-any.whl (1.6 MB)\n",
            "\u001b[2K     \u001b[90m━━━━━━━━━━━━━━━━━━━━━━━━━━━━━━━━━━━━━━━━\u001b[0m \u001b[32m1.6/1.6 MB\u001b[0m \u001b[31m70.0 MB/s\u001b[0m eta \u001b[36m0:00:00\u001b[0m\n",
            "\u001b[?25hRequirement already satisfied: decorator in /usr/local/lib/python3.10/dist-packages (from ipython>=7.0->elevenlabs==0.3.0b0) (4.4.2)\n",
            "Requirement already satisfied: pickleshare in /usr/local/lib/python3.10/dist-packages (from ipython>=7.0->elevenlabs==0.3.0b0) (0.7.5)\n",
            "Requirement already satisfied: traitlets>=4.2 in /usr/local/lib/python3.10/dist-packages (from ipython>=7.0->elevenlabs==0.3.0b0) (5.7.1)\n",
            "Requirement already satisfied: prompt-toolkit!=3.0.0,!=3.0.1,<3.1.0,>=2.0.0 in /usr/local/lib/python3.10/dist-packages (from ipython>=7.0->elevenlabs==0.3.0b0) (3.0.43)\n",
            "Requirement already satisfied: pygments in /usr/local/lib/python3.10/dist-packages (from ipython>=7.0->elevenlabs==0.3.0b0) (2.16.1)\n",
            "Requirement already satisfied: backcall in /usr/local/lib/python3.10/dist-packages (from ipython>=7.0->elevenlabs==0.3.0b0) (0.2.0)\n",
            "Requirement already satisfied: matplotlib-inline in /usr/local/lib/python3.10/dist-packages (from ipython>=7.0->elevenlabs==0.3.0b0) (0.1.6)\n",
            "Requirement already satisfied: pexpect>4.3 in /usr/local/lib/python3.10/dist-packages (from ipython>=7.0->elevenlabs==0.3.0b0) (4.9.0)\n",
            "Requirement already satisfied: annotated-types>=0.4.0 in /usr/local/lib/python3.10/dist-packages (from pydantic<2.5.0,>=1.9.2->elevenlabs==0.3.0b0) (0.6.0)\n",
            "Collecting pydantic-core==2.10.1 (from pydantic<2.5.0,>=1.9.2->elevenlabs==0.3.0b0)\n",
            "  Downloading pydantic_core-2.10.1-cp310-cp310-manylinux_2_17_x86_64.manylinux2014_x86_64.whl (2.0 MB)\n",
            "\u001b[2K     \u001b[90m━━━━━━━━━━━━━━━━━━━━━━━━━━━━━━━━━━━━━━━━\u001b[0m \u001b[32m2.0/2.0 MB\u001b[0m \u001b[31m94.5 MB/s\u001b[0m eta \u001b[36m0:00:00\u001b[0m\n",
            "\u001b[?25hRequirement already satisfied: typing-extensions>=4.6.1 in /usr/local/lib/python3.10/dist-packages (from pydantic<2.5.0,>=1.9.2->elevenlabs==0.3.0b0) (4.10.0)\n",
            "Requirement already satisfied: charset-normalizer<4,>=2 in /usr/local/lib/python3.10/dist-packages (from requests>=2.20->elevenlabs==0.3.0b0) (3.3.2)\n",
            "Requirement already satisfied: urllib3<3,>=1.21.1 in /usr/local/lib/python3.10/dist-packages (from requests>=2.20->elevenlabs==0.3.0b0) (2.0.7)\n",
            "Requirement already satisfied: parso<0.9.0,>=0.8.3 in /usr/local/lib/python3.10/dist-packages (from jedi>=0.16->ipython>=7.0->elevenlabs==0.3.0b0) (0.8.3)\n",
            "Requirement already satisfied: ptyprocess>=0.5 in /usr/local/lib/python3.10/dist-packages (from pexpect>4.3->ipython>=7.0->elevenlabs==0.3.0b0) (0.7.0)\n",
            "Requirement already satisfied: wcwidth in /usr/local/lib/python3.10/dist-packages (from prompt-toolkit!=3.0.0,!=3.0.1,<3.1.0,>=2.0.0->ipython>=7.0->elevenlabs==0.3.0b0) (0.2.13)\n",
            "Requirement already satisfied: exceptiongroup in /usr/local/lib/python3.10/dist-packages (from anyio->httpx>=0.21.2->elevenlabs==0.3.0b0) (1.2.0)\n",
            "Installing collected packages: websockets, pydantic-core, jedi, h11, pydantic, httpcore, httpx, elevenlabs\n",
            "  Attempting uninstall: pydantic-core\n",
            "    Found existing installation: pydantic_core 2.16.3\n",
            "    Uninstalling pydantic_core-2.16.3:\n",
            "      Successfully uninstalled pydantic_core-2.16.3\n",
            "  Attempting uninstall: pydantic\n",
            "    Found existing installation: pydantic 2.6.3\n",
            "    Uninstalling pydantic-2.6.3:\n",
            "      Successfully uninstalled pydantic-2.6.3\n",
            "Successfully installed elevenlabs-0.3.0b0 h11-0.14.0 httpcore-1.0.4 httpx-0.27.0 jedi-0.19.1 pydantic-2.4.2 pydantic-core-2.10.1 websockets-12.0\n"
          ]
        }
      ]
    },
    {
      "cell_type": "markdown",
      "source": [
        "# **Define api_key variable with your API key**"
      ],
      "metadata": {
        "id": "qbHuuieq2l7R"
      }
    },
    {
      "cell_type": "code",
      "execution_count": 3,
      "metadata": {
        "id": "WVr-Nldh3mpf"
      },
      "outputs": [],
      "source": [
        "from elevenlabs.client import ElevenLabs\n",
        "\n",
        "api_key=\"\" #provided in the tutorial file\n",
        "client = ElevenLabs(api_key=api_key)"
      ]
    },
    {
      "cell_type": "markdown",
      "source": [
        "# **Testing API key by printing remaining characters**"
      ],
      "metadata": {
        "id": "Ak2ULHk52zQH"
      }
    },
    {
      "cell_type": "code",
      "source": [
        "print(\"Total quota remaining:\", client.user.get().subscription.character_limit - client.user.get().subscription.character_count)"
      ],
      "metadata": {
        "colab": {
          "base_uri": "https://localhost:8080/"
        },
        "id": "p4-ykdJG3BME",
        "outputId": "215e14cc-be7d-4dd5-cc3f-2f474e06ebed"
      },
      "execution_count": null,
      "outputs": [
        {
          "output_type": "stream",
          "name": "stdout",
          "text": [
            "Total quota remaining: 103670\n"
          ]
        }
      ]
    },
    {
      "cell_type": "markdown",
      "source": [
        "# **Create \"audio\" folder within \"sample_data\" and upload all audio files**"
      ],
      "metadata": {
        "id": "S1gGVT8U470V"
      }
    },
    {
      "cell_type": "code",
      "source": [
        "#Create files variable with all audio files within the \"audio\" folder\n",
        "import os\n",
        "\n",
        "directory = '/content/sample_data/audio'\n",
        "files = []\n",
        "\n",
        "for root, _, filenames in os.walk(directory):\n",
        "    for filename in filenames:\n",
        "        files.append(os.path.join(root, filename))\n",
        "\n",
        "for file in files:\n",
        "    print(file)"
      ],
      "metadata": {
        "colab": {
          "base_uri": "https://localhost:8080/"
        },
        "id": "hGa4mgb1zinq",
        "outputId": "a4aa5b4e-1429-48e4-daae-92172ac6494e"
      },
      "execution_count": null,
      "outputs": [
        {
          "output_type": "stream",
          "name": "stdout",
          "text": [
            "/content/sample_data/audio/Recording (6).m4a\n",
            "/content/sample_data/audio/Recording (4).m4a\n",
            "/content/sample_data/audio/Recording (5).m4a\n"
          ]
        }
      ]
    },
    {
      "cell_type": "markdown",
      "source": [
        "# **Only 30 voices can be added with Creator subscription thus make sure to have uploaded all necessary audio files and settings before calling API**"
      ],
      "metadata": {
        "id": "71V3wt1n2BiU"
      }
    },
    {
      "cell_type": "code",
      "source": [
        "from elevenlabs import clone\n",
        "name = \"NEW_VOICE_DALE\" #name your voice\n",
        "\n",
        "voice = clone(\n",
        "    api_key=api_key,\n",
        "    name=name,\n",
        "    # description=\"An old kazakh male voice with a slight hoarseness in his throat. Perfect for news\", # Optional\n",
        "    files=files,\n",
        ")"
      ],
      "metadata": {
        "id": "-5C2x9LZvsun"
      },
      "execution_count": null,
      "outputs": []
    },
    {
      "cell_type": "code",
      "source": [
        "voice_id = \"\" #find voice id to generate audio\n",
        "for voice_response in client.voices.get_all().voices:\n",
        "    if voice_response.name == name:\n",
        "        voice_id = voice_response.voice_id"
      ],
      "metadata": {
        "id": "J6mxylQD0GFW"
      },
      "execution_count": null,
      "outputs": []
    },
    {
      "cell_type": "markdown",
      "source": [
        "# **Generate speech in cloned voice with any text**"
      ],
      "metadata": {
        "id": "YC6OBO_f5wD8"
      }
    },
    {
      "cell_type": "code",
      "source": [
        "#for better results change text or refer to: https://elevenlabs.io/docs/speech-synthesis/prompting\n",
        "from elevenlabs import Voice, VoiceSettings, generate, play\n",
        "audio = generate(\n",
        "    api_key = api_key,\n",
        "    text=\"Guys where are you?!\",\n",
        "    voice=Voice(\n",
        "        voice_id=voice_id,\n",
        "        settings=VoiceSettings(stability=0.5, similarity_boost=1, style=0.3, use_speaker_boost=True)\n",
        "    ))\n",
        "\n",
        "play(audio, notebook=True)\n",
        "#might need to run several times and change voice settings to find better audio"
      ],
      "metadata": {
        "colab": {
          "base_uri": "https://localhost:8080/",
          "height": 76
        },
        "id": "Y4Mn8F_nyuu7",
        "outputId": "6a99d2da-fe26-4868-d3b2-693169c06890"
      },
      "execution_count": null,
      "outputs": [
        {
          "output_type": "display_data",
          "data": {
            "text/plain": [
              "<IPython.lib.display.Audio object>"
            ],
            "text/html": [
              "\n",
              "                <audio  controls=\"controls\" autoplay=\"autoplay\">\n",
              "                    <source src=\"data:audio/wav;base64,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\" type=\"audio/wav\" />\n",
              "                    Your browser does not support the audio element.\n",
              "                </audio>\n",
              "              "
            ]
          },
          "metadata": {}
        }
      ]
    }
  ]
}